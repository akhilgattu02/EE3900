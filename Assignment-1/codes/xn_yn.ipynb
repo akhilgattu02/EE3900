{
 "cells": [
  {
   "cell_type": "markdown",
   "id": "716f4140",
   "metadata": {},
   "source": [
    "# Python code"
   ]
  },
  {
   "cell_type": "code",
   "execution_count": 2,
   "id": "3f72e817",
   "metadata": {},
   "outputs": [
    {
     "name": "stdout",
     "output_type": "stream",
     "text": [
      "[ 1.00000000e+00  1.50000000e+00  3.25000000e+00  4.37500000e+00\n",
      "  2.81250000e+00  3.59375000e+00  2.03125000e-01  8.98437500e-01\n",
      " -4.49218750e-01  2.24609375e-01 -1.12304688e-01  5.61523438e-02\n",
      " -2.80761719e-02  1.40380859e-02 -7.01904297e-03  3.50952148e-03\n",
      " -1.75476074e-03  8.77380371e-04 -4.38690186e-04  0.00000000e+00]\n"
     ]
    },
    {
     "data": {
      "image/png": "[encoded data removed]",
      "text/plain": [
       "<Figure size 432x288 with 2 Axes>"
      ]
     },
     "metadata": {
      "needs_background": "light"
     },
     "output_type": "display_data"
    }
   ],
   "source": [
    "import numpy as np\n",
    "import matplotlib.pyplot as plt\n",
    "#If using termux\n",
    "import subprocess\n",
    "import shlex\n",
    "#end if\n",
    "\n",
    "\n",
    "\n",
    "x=np.array([1.0,2.0,3.0,4.0,2.0,1.0])\n",
    "k = 20\n",
    "y = np.zeros(20)\n",
    "\n",
    "\n",
    "y[0] = x[0]\n",
    "y[1] = -0.5*y[0]+x[1]\n",
    "\n",
    "for n in range(2,k-1):\n",
    "\tif n < 6:\n",
    "\t\ty[n] = -0.5*y[n-1]+x[n]+x[n-2]\n",
    "\telif n > 5 and n < 8:\n",
    "\t\ty[n] = -0.5*y[n-1]+x[n-2]\n",
    "\telse:\n",
    "\t\ty[n] = -0.5*y[n-1]\n",
    "print(y)\n",
    "\n",
    "#subplots\n",
    "plt.subplot(2, 1, 1)\n",
    "plt.stem(range(0,6),x)\n",
    "plt.title('Digital Filter Input-Output')\n",
    "plt.ylabel('$x(n)$')\n",
    "plt.grid()# minor\n",
    "\n",
    "\n",
    "plt.subplot(2, 1, 2)\n",
    "plt.stem(range(0,k),y)\n",
    "plt.xlabel('$n$')\n",
    "plt.ylabel('$y(n)$')\n",
    "plt.grid()# minor\n",
    "\n",
    "#If using termux\n",
    "plt.savefig('../figs/xnyn.pdf')\n",
    "plt.savefig('../figs/xnyn.eps')\n",
    "#subprocess.run(shlex.split(\"termux-open ../figs/xnyn.pdf\"))\n",
    "#else\n",
    "#plt.show()"
   ]
  },
  {
   "cell_type": "markdown",
   "id": "eb7d9a84",
   "metadata": {},
   "source": [
    "# C-code"
   ]
  },
  {
   "cell_type": "code",
   "execution_count": 6,
   "id": "6f5efdd7",
   "metadata": {},
   "outputs": [],
   "source": [
    "file = open('yn.txt','r')\n",
    "y_c_n = []\n",
    "for line in file:\n",
    "    y_c_n.append(float(line))"
   ]
  },
  {
   "cell_type": "code",
   "execution_count": 7,
   "id": "7f866c1c",
   "metadata": {},
   "outputs": [
    {
     "data": {
      "text/plain": [
       "[1.0,\n",
       " 1.5,\n",
       " 3.25,\n",
       " 4.375,\n",
       " 2.8125,\n",
       " 3.59375,\n",
       " 0.203125,\n",
       " 0.898438,\n",
       " -0.449219,\n",
       " 0.224609,\n",
       " -0.112305,\n",
       " 0.056152,\n",
       " -0.028076,\n",
       " 0.014038,\n",
       " -0.007019,\n",
       " 0.00351,\n",
       " -0.001755,\n",
       " 0.000877,\n",
       " -0.000439,\n",
       " 0.000219]"
      ]
     },
     "execution_count": 7,
     "metadata": {},
     "output_type": "execute_result"
    }
   ],
   "source": [
    "y_c_n"
   ]
  },
  {
   "cell_type": "code",
   "execution_count": 10,
   "id": "58940461",
   "metadata": {},
   "outputs": [
    {
     "data": {
      "image/png": "[encoded data removed]",
      "text/plain": [
       "<Figure size 432x288 with 2 Axes>"
      ]
     },
     "metadata": {
      "needs_background": "light"
     },
     "output_type": "display_data"
    }
   ],
   "source": [
    "plt.subplot(2, 1, 1)\n",
    "plt.stem(range(0,6),x)\n",
    "plt.title('Digital Filter Input-Output')\n",
    "plt.ylabel('$x(n)$')\n",
    "plt.grid()# minor\n",
    "\n",
    "\n",
    "plt.subplot(2, 1, 2)\n",
    "plt.stem(range(0,k),y_c_n)\n",
    "plt.xlabel('$n$')\n",
    "plt.ylabel('$y(n)$')\n",
    "plt.grid()"
   ]
  },
  {
   "cell_type": "code",
   "execution_count": null,
   "id": "4f3381a0",
   "metadata": {},
   "outputs": [],
   "source": []
  }
 ],
 "metadata": {
  "kernelspec": {
   "display_name": "Python 3 (ipykernel)",
   "language": "python",
   "name": "python3"
  },
  "language_info": {
   "codemirror_mode": {
    "name": "ipython",
    "version": 3
   },
   "file_extension": ".py",
   "mimetype": "text/x-python",
   "name": "python",
   "nbconvert_exporter": "python",
   "pygments_lexer": "ipython3",
   "version": "3.9.12"
  },
  "vscode": {
   "interpreter": {
    "hash": "b57f3041e8bdc347c2bfc3d5281b8dcc6beb3e8da6b009457e9242b952eab689"
   }
  }
 },
 "nbformat": 4,
 "nbformat_minor": 5
}
