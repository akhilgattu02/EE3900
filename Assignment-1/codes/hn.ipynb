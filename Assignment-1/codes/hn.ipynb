{
 "cells": [
  {
   "cell_type": "code",
   "execution_count": 1,
   "id": "ef9710f4",
   "metadata": {},
   "outputs": [
    {
     "data": {
      "image/png": "[encoded data removed]",
      "text/plain": [
       "<Figure size 432x288 with 1 Axes>"
      ]
     },
     "metadata": {
      "needs_background": "light"
     },
     "output_type": "display_data"
    }
   ],
   "source": [
    "import numpy as np\n",
    "import matplotlib.pyplot as plt\n",
    "#if using termux\n",
    "import subprocess\n",
    "import shlex\n",
    "#end if\n",
    "\n",
    "\n",
    "\n",
    "n = np.arange(10)\n",
    "fn=(-1/2)**n\n",
    "hn1=np.pad(fn, (0,2), 'constant', constant_values=(0))\n",
    "hn2=np.pad(fn, (2,0), 'constant', constant_values=(0))\n",
    "plt.stem(np.arange(12), hn1+hn2)\n",
    "plt.title('Filter Impulse Response')\n",
    "plt.xlabel('$n$')\n",
    "plt.ylabel('$h(n)$')\n",
    "plt.grid()# minor\n",
    "\n",
    "#if using termux\n",
    "plt.savefig('../figs/hn.pdf')\n",
    "plt.savefig('../figs/hn.eps')\n",
    "#subprocess.run(shlex.split(\"termux-open ../figs/hn.pdf\"))"
   ]
  },
  {
   "cell_type": "code",
   "execution_count": 2,
   "id": "9fbb2239",
   "metadata": {},
   "outputs": [
    {
     "data": {
      "text/plain": [
       "array([ 1.        , -0.5       ,  0.25      , -0.125     ,  0.0625    ,\n",
       "       -0.03125   ,  0.015625  , -0.0078125 ,  0.00390625, -0.00195312,\n",
       "        0.        ,  0.        ])"
      ]
     },
     "execution_count": 2,
     "metadata": {},
     "output_type": "execute_result"
    }
   ],
   "source": [
    "hn1"
   ]
  },
  {
   "cell_type": "code",
   "execution_count": 3,
   "id": "290d2fdc",
   "metadata": {},
   "outputs": [
    {
     "data": {
      "text/plain": [
       "array([ 0.        ,  0.        ,  1.        , -0.5       ,  0.25      ,\n",
       "       -0.125     ,  0.0625    , -0.03125   ,  0.015625  , -0.0078125 ,\n",
       "        0.00390625, -0.00195312])"
      ]
     },
     "execution_count": 3,
     "metadata": {},
     "output_type": "execute_result"
    }
   ],
   "source": [
    "hn2"
   ]
  },
  {
   "cell_type": "code",
   "execution_count": 4,
   "id": "184c4ebe",
   "metadata": {},
   "outputs": [
    {
     "data": {
      "text/plain": [
       "array([ 1.        , -0.5       ,  1.25      , -0.625     ,  0.3125    ,\n",
       "       -0.15625   ,  0.078125  , -0.0390625 ,  0.01953125, -0.00976562,\n",
       "        0.00390625, -0.00195312])"
      ]
     },
     "execution_count": 4,
     "metadata": {},
     "output_type": "execute_result"
    }
   ],
   "source": [
    "hn1+hn2"
   ]
  },
  {
   "cell_type": "code",
   "execution_count": null,
   "id": "872ac37f",
   "metadata": {},
   "outputs": [],
   "source": []
  }
 ],
 "metadata": {
  "kernelspec": {
   "display_name": "Python 3 (ipykernel)",
   "language": "python",
   "name": "python3"
  },
  "language_info": {
   "codemirror_mode": {
    "name": "ipython",
    "version": 3
   },
   "file_extension": ".py",
   "mimetype": "text/x-python",
   "name": "python",
   "nbconvert_exporter": "python",
   "pygments_lexer": "ipython3",
   "version": "3.9.12"
  }
 },
 "nbformat": 4,
 "nbformat_minor": 5
}
