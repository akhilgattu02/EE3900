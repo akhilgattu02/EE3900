{
 "cells": [
  {
   "cell_type": "code",
   "execution_count": 9,
   "id": "8f92d0f8",
   "metadata": {},
   "outputs": [
    {
     "name": "stdout",
     "output_type": "stream",
     "text": [
      "[ 1.00000000e+00  1.50000000e+00  3.25000000e+00  4.37500000e+00\n",
      "  2.81250000e+00  3.59375000e+00  2.03125000e-01  8.98437500e-01\n",
      " -4.49218750e-01  2.24609375e-01 -1.12304688e-01  5.61523438e-02\n",
      " -2.80761719e-02  1.40380859e-02 -7.08007812e-03  3.41796875e-03\n",
      " -1.95312500e-03  6.10351562e-04 -6.10351562e-04  0.00000000e+00\n",
      " -1.22070312e-04]\n"
     ]
    },
    {
     "data": {
      "image/png": "[encoded data removed]",
      "text/plain": [
       "<Figure size 432x288 with 1 Axes>"
      ]
     },
     "metadata": {
      "needs_background": "light"
     },
     "output_type": "display_data"
    }
   ],
   "source": [
    "import numpy as np\n",
    "import matplotlib.pyplot as plt\n",
    "#If using termux\n",
    "import subprocess\n",
    "import shlex\n",
    "#end if\n",
    "\n",
    "\n",
    "\n",
    "n = np.arange(14)\n",
    "fn=(-1/2)**n\n",
    "hn1=np.pad(fn, (0,2), 'constant', constant_values=(0))\n",
    "hn2=np.pad(fn, (2,0), 'constant', constant_values=(0))\n",
    "h = hn1+hn2\n",
    "\n",
    "nh=len(h)\n",
    "x=np.array([1.0,2.0,3.0,4.0,2.0,1.0])\n",
    "nx = len(x)\n",
    "\n",
    "y = np.zeros(nx+nh-1)\n",
    "\n",
    "for k in range(0,nx+nh-1):\n",
    "\tfor n in range(0,nx):\n",
    "\t\tif k-n >= 0 and k-n < nh:\n",
    "\t\t\ty[k]+=x[n]*h[k-n]\n",
    "\n",
    "print(y)\n",
    "#plots\n",
    "plt.stem(range(0,nx+nh-1),y)\n",
    "plt.title('Filter Output using Convolution')\n",
    "plt.xlabel('$n$')\n",
    "plt.ylabel('$y(n)$')\n",
    "plt.grid()# minor"
   ]
  },
  {
   "cell_type": "code",
   "execution_count": 10,
   "id": "98e3e568",
   "metadata": {},
   "outputs": [],
   "source": [
    "from scipy.linalg import toeplitz"
   ]
  },
  {
   "cell_type": "code",
   "execution_count": 20,
   "id": "d3ff9f6a",
   "metadata": {},
   "outputs": [
    {
     "name": "stdout",
     "output_type": "stream",
     "text": [
      "[1.0, -0.5, 1.25, -0.625, 0.3125, -0.15625, 0.078125, -0.0390625, 0.01953125, -0.009765625, 0.0048828125, -0.00244140625, 0.001220703125, -0.0006103515625, 0.000244140625, -0.0001220703125, 0, 0, 0, 0, 0]\n"
     ]
    }
   ],
   "source": [
    "column = []\n",
    "for i in h:\n",
    "    column.append(i)\n",
    "for j in range(0, 5):\n",
    "    column.append(0)\n",
    "row = []\n",
    "row.append(h[0])\n",
    "for k in range(0, 5):\n",
    "    row.append(0)\n",
    "print(column)"
   ]
  },
  {
   "cell_type": "markdown",
   "id": "ddaffc59",
   "metadata": {},
   "source": [
    "# Insert toeplitz matrix"
   ]
  },
  {
   "cell_type": "code",
   "execution_count": 22,
   "id": "b60ce0ad",
   "metadata": {},
   "outputs": [],
   "source": [
    "matrix = toeplitz(row, column)\n",
    "x"
   ]
  },
  {
   "cell_type": "code",
   "execution_count": 28,
   "id": "c7e301ff",
   "metadata": {},
   "outputs": [
    {
     "data": {
      "text/plain": [
       "array([1., 2., 3., 4., 2., 1.])"
      ]
     },
     "execution_count": 28,
     "metadata": {},
     "output_type": "execute_result"
    }
   ],
   "source": [
    "x_t = np.transpose(x)\n",
    "x_t"
   ]
  },
  {
   "cell_type": "code",
   "execution_count": 29,
   "id": "895b6dde",
   "metadata": {},
   "outputs": [
    {
     "data": {
      "text/plain": [
       "array([1., 2., 3., 4., 2., 1.])"
      ]
     },
     "execution_count": 29,
     "metadata": {},
     "output_type": "execute_result"
    }
   ],
   "source": [
    "x"
   ]
  },
  {
   "cell_type": "code",
   "execution_count": 35,
   "id": "0e32071b",
   "metadata": {},
   "outputs": [],
   "source": [
    "matrix_t = np.transpose(matrix)"
   ]
  },
  {
   "cell_type": "code",
   "execution_count": 37,
   "id": "f7f3607f",
   "metadata": {},
   "outputs": [
    {
     "data": {
      "text/plain": [
       "array([ 1.00000000e+00,  1.50000000e+00,  3.25000000e+00,  4.37500000e+00,\n",
       "        2.81250000e+00,  3.59375000e+00,  2.03125000e-01,  8.98437500e-01,\n",
       "       -4.49218750e-01,  2.24609375e-01, -1.12304688e-01,  5.61523438e-02,\n",
       "       -2.80761719e-02,  1.40380859e-02, -7.08007812e-03,  3.41796875e-03,\n",
       "       -1.95312500e-03,  6.10351562e-04, -6.10351562e-04,  0.00000000e+00,\n",
       "       -1.22070312e-04])"
      ]
     },
     "execution_count": 37,
     "metadata": {},
     "output_type": "execute_result"
    }
   ],
   "source": [
    "np.dot(matrix_t, x)"
   ]
  },
  {
   "cell_type": "code",
   "execution_count": 38,
   "id": "fea28396",
   "metadata": {},
   "outputs": [
    {
     "data": {
      "text/plain": [
       "array([ 1.00000000e+00,  1.50000000e+00,  3.25000000e+00,  4.37500000e+00,\n",
       "        2.81250000e+00,  3.59375000e+00,  2.03125000e-01,  8.98437500e-01,\n",
       "       -4.49218750e-01,  2.24609375e-01, -1.12304688e-01,  5.61523438e-02,\n",
       "       -2.80761719e-02,  1.40380859e-02, -7.08007812e-03,  3.41796875e-03,\n",
       "       -1.95312500e-03,  6.10351562e-04, -6.10351562e-04,  0.00000000e+00,\n",
       "       -1.22070312e-04])"
      ]
     },
     "execution_count": 38,
     "metadata": {},
     "output_type": "execute_result"
    }
   ],
   "source": [
    "y"
   ]
  },
  {
   "cell_type": "markdown",
   "id": "3e128391",
   "metadata": {},
   "source": [
    "# Convolving with x"
   ]
  },
  {
   "cell_type": "code",
   "execution_count": 41,
   "id": "938f0dc0",
   "metadata": {},
   "outputs": [
    {
     "name": "stdout",
     "output_type": "stream",
     "text": [
      "[ 1.00000000e+00  1.50000000e+00  3.25000000e+00  4.37500000e+00\n",
      "  2.81250000e+00  3.59375000e+00  2.03125000e-01  8.98437500e-01\n",
      " -4.49218750e-01  2.24609375e-01 -1.12304688e-01  5.61523438e-02\n",
      " -2.80761719e-02  1.40380859e-02 -7.08007812e-03  3.41796875e-03\n",
      " -1.95312500e-03  6.10351562e-04 -6.10351562e-04  0.00000000e+00\n",
      " -1.22070312e-04]\n"
     ]
    }
   ],
   "source": [
    "y_2 = np.zeros(nx+nh-1)\n",
    "\n",
    "for k in range(0,nx+nh-1):\n",
    "\tfor n in range(0,nh):\n",
    "\t\tif k-n >= 0 and k-n < nx:\n",
    "\t\t\ty_2[k]+=x[k-n]*h[n]\n",
    "\n",
    "print(y_2)"
   ]
  },
  {
   "cell_type": "code",
   "execution_count": null,
   "id": "47cd2519",
   "metadata": {},
   "outputs": [],
   "source": []
  }
 ],
 "metadata": {
  "kernelspec": {
   "display_name": "Python 3 (ipykernel)",
   "language": "python",
   "name": "python3"
  },
  "language_info": {
   "codemirror_mode": {
    "name": "ipython",
    "version": 3
   },
   "file_extension": ".py",
   "mimetype": "text/x-python",
   "name": "python",
   "nbconvert_exporter": "python",
   "pygments_lexer": "ipython3",
   "version": "3.9.12"
  }
 },
 "nbformat": 4,
 "nbformat_minor": 5
}
