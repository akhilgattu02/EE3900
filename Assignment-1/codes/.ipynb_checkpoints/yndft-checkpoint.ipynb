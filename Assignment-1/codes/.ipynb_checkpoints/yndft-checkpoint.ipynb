{
 "cells": [
  {
   "cell_type": "code",
   "execution_count": 19,
   "id": "dab3d962",
   "metadata": {},
   "outputs": [],
   "source": [
    "import numpy as np\n",
    "from numpy.fft import fft, ifft"
   ]
  },
  {
   "cell_type": "code",
   "execution_count": 20,
   "id": "8d609278",
   "metadata": {},
   "outputs": [],
   "source": [
    "def dft_imp(x):\n",
    "    x = np.asarray(x, dtype=float)\n",
    "    #print(x)\n",
    "    N = x.shape[0]\n",
    "    #print(N)\n",
    "    n = np.arange(N)\n",
    "    #print(n)\n",
    "    k = n.reshape((N, 1))\n",
    "    #print(k*n)\n",
    "    M = np.exp(-2j * np.pi * k * n / N)\n",
    "    #print(M)\n",
    "    return np.dot(M, x)"
   ]
  },
  {
   "cell_type": "code",
   "execution_count": 21,
   "id": "9e980f2e",
   "metadata": {},
   "outputs": [],
   "source": [
    "def fft_imp(x):\n",
    "    x = np.asarray(x, dtype=float)\n",
    "    N = x.shape[0]\n",
    "    if N % 2 > 0:\n",
    "        raise ValueError(\"must be a power of 2\")\n",
    "    elif N <= 2:\n",
    "        return dft_imp(x)\n",
    "    else:\n",
    "        X_even = fft_imp(x[::2])\n",
    "        X_odd = fft_imp(x[1::2])\n",
    "        terms = np.exp(-2j * np.pi * np.arange(N) / N)\n",
    "        return np.concatenate([X_even + terms[:int(N/2)] * X_odd,\n",
    "                               X_even + terms[int(N/2):] * X_odd])"
   ]
  },
  {
   "cell_type": "code",
   "execution_count": 22,
   "id": "5dc4d5c9",
   "metadata": {},
   "outputs": [
    {
     "data": {
      "text/plain": [
       "array([1., 2., 3., 4., 2., 1., 0., 0., 0., 0., 0., 0., 0., 0., 0., 0., 0.,\n",
       "       0., 0., 0., 0., 0., 0., 0., 0., 0., 0., 0., 0., 0., 0., 0.])"
      ]
     },
     "execution_count": 22,
     "metadata": {},
     "output_type": "execute_result"
    }
   ],
   "source": [
    "xtemp=np.array([1.0,2.0,3.0,4.0,2.0,1.0])\n",
    "x=np.pad(xtemp, (0,26), 'constant', constant_values=(0))\n",
    "x"
   ]
  },
  {
   "cell_type": "code",
   "execution_count": 23,
   "id": "eeef60b6",
   "metadata": {},
   "outputs": [],
   "source": [
    "X = fft(x)"
   ]
  },
  {
   "cell_type": "code",
   "execution_count": 24,
   "id": "8f8c29f4",
   "metadata": {},
   "outputs": [],
   "source": [
    "implementation = fft_imp(x)"
   ]
  },
  {
   "cell_type": "code",
   "execution_count": 25,
   "id": "ab94a5e7",
   "metadata": {},
   "outputs": [
    {
     "data": {
      "text/plain": [
       "16"
      ]
     },
     "execution_count": 25,
     "metadata": {},
     "output_type": "execute_result"
    }
   ],
   "source": [
    "N = 14\n",
    "n = np.arange(N)\n",
    "fn=(-1/2)**n\n",
    "hn1=np.pad(fn, (0,2), 'constant', constant_values=(0))\n",
    "hn2=np.pad(fn, (2,0), 'constant', constant_values=(0))\n",
    "h = hn1+hn2\n",
    "len(h)"
   ]
  },
  {
   "cell_type": "code",
   "execution_count": 26,
   "id": "71d1b3e0",
   "metadata": {},
   "outputs": [
    {
     "data": {
      "text/plain": [
       "32"
      ]
     },
     "execution_count": 26,
     "metadata": {},
     "output_type": "execute_result"
    }
   ],
   "source": [
    "h_final = np.pad(h, (0,16), 'constant', constant_values=(0))\n",
    "len(h_final)"
   ]
  },
  {
   "cell_type": "code",
   "execution_count": 27,
   "id": "378f1372",
   "metadata": {},
   "outputs": [],
   "source": [
    "H = fft(h_final)"
   ]
  },
  {
   "cell_type": "code",
   "execution_count": 28,
   "id": "829fc907",
   "metadata": {},
   "outputs": [],
   "source": [
    "implementation_2 = fft_imp(h_final)"
   ]
  },
  {
   "cell_type": "code",
   "execution_count": null,
   "id": "89525707",
   "metadata": {},
   "outputs": [],
   "source": [
    "implementation_2"
   ]
  },
  {
   "cell_type": "code",
   "execution_count": 29,
   "id": "0e8299a5",
   "metadata": {},
   "outputs": [],
   "source": [
    "Y = np.zeros(32) + 1j*np.zeros(32)\n",
    "for k in range(0,N):\n",
    "    Y[k] = X[k]*H[k]"
   ]
  },
  {
   "cell_type": "code",
   "execution_count": 32,
   "id": "ebacf9a1",
   "metadata": {},
   "outputs": [],
   "source": [
    "inverse_fourier = ifft(Y)"
   ]
  },
  {
   "cell_type": "code",
   "execution_count": 35,
   "id": "e4843c80",
   "metadata": {},
   "outputs": [
    {
     "data": {
      "text/plain": [
       "array([0.77106778-0.96576096j, 0.9564061 -1.22799494j,\n",
       "       2.0305464 -1.1133782j , 2.25534278+0.04516214j,\n",
       "       1.93795009+0.45490103j, 1.76634638+1.17797243j,\n",
       "       0.69179375+1.39051705j, 0.40701886+0.78934844j,\n",
       "       0.3294479 +0.77107121j, 0.14895551+0.40404255j,\n",
       "       0.38692603+0.35288143j, 0.19345545+0.36481777j,\n",
       "       0.29867866+0.15563812j, 0.28885875+0.27688386j,\n",
       "       0.21937056+0.10104158j, 0.33847902+0.14427505j,\n",
       "       0.20452732+0.10392644j, 0.32006777+0.01919744j,\n",
       "       0.24844836+0.09181149j, 0.26204655-0.05562973j,\n",
       "       0.30748752+0.02719403j, 0.21495667-0.07505936j,\n",
       "       0.33284608-0.08289145j, 0.217194  -0.07468933j,\n",
       "       0.30262302-0.20033992j, 0.27046295-0.11033204j,\n",
       "       0.23587364-0.28800637j, 0.33801387-0.22962248j,\n",
       "       0.18128656-0.34662996j, 0.36701471-0.46470996j,\n",
       "       0.18726402-0.45197552j, 0.32151833-0.98366186j])"
      ]
     },
     "execution_count": 35,
     "metadata": {},
     "output_type": "execute_result"
    }
   ],
   "source": [
    "inverse_fourier"
   ]
  },
  {
   "cell_type": "code",
   "execution_count": 36,
   "id": "28668be0",
   "metadata": {},
   "outputs": [
    {
     "ename": "NameError",
     "evalue": "name 'y' is not defined",
     "output_type": "error",
     "traceback": [
      "\u001b[0;31m---------------------------------------------------------------------------\u001b[0m",
      "\u001b[0;31mNameError\u001b[0m                                 Traceback (most recent call last)",
      "Input \u001b[0;32mIn [36]\u001b[0m, in \u001b[0;36m<cell line: 1>\u001b[0;34m()\u001b[0m\n\u001b[1;32m      1\u001b[0m \u001b[38;5;28;01mfor\u001b[39;00m k \u001b[38;5;129;01min\u001b[39;00m \u001b[38;5;28mrange\u001b[39m(\u001b[38;5;241m0\u001b[39m,N):\n\u001b[1;32m      2\u001b[0m     \u001b[38;5;28;01mfor\u001b[39;00m n \u001b[38;5;129;01min\u001b[39;00m \u001b[38;5;28mrange\u001b[39m(\u001b[38;5;241m0\u001b[39m,N):\n\u001b[0;32m----> 3\u001b[0m         \u001b[43my\u001b[49m[k]\u001b[38;5;241m+\u001b[39m\u001b[38;5;241m=\u001b[39mY[n]\u001b[38;5;241m*\u001b[39mnp\u001b[38;5;241m.\u001b[39mexp(\u001b[38;5;241m1\u001b[39mj\u001b[38;5;241m*\u001b[39m\u001b[38;5;241m2\u001b[39m\u001b[38;5;241m*\u001b[39mnp\u001b[38;5;241m.\u001b[39mpi\u001b[38;5;241m*\u001b[39mn\u001b[38;5;241m*\u001b[39mk\u001b[38;5;241m/\u001b[39mN)\n",
      "\u001b[0;31mNameError\u001b[0m: name 'y' is not defined"
     ]
    }
   ],
   "source": [
    "for k in range(0,N):\n",
    "    for n in range(0,N):\n",
    "        y[k]+=Y[n]*np.exp(1j*2*np.pi*n*k/N)"
   ]
  },
  {
   "cell_type": "code",
   "execution_count": null,
   "id": "45528497",
   "metadata": {},
   "outputs": [],
   "source": []
  }
 ],
 "metadata": {
  "kernelspec": {
   "display_name": "Python 3 (ipykernel)",
   "language": "python",
   "name": "python3"
  },
  "language_info": {
   "codemirror_mode": {
    "name": "ipython",
    "version": 3
   },
   "file_extension": ".py",
   "mimetype": "text/x-python",
   "name": "python",
   "nbconvert_exporter": "python",
   "pygments_lexer": "ipython3",
   "version": "3.9.12"
  }
 },
 "nbformat": 4,
 "nbformat_minor": 5
}
